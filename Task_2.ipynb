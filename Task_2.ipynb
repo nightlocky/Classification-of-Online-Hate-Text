{
 "cells": [
  {
   "cell_type": "code",
   "execution_count": null,
   "metadata": {},
   "outputs": [],
   "source": [
    "import pandas as pd\n",
    "import numpy as np\n",
    "import math\n",
    "import sys\n",
    "import random\n",
    "from sklearn.decomposition import PCA\n",
    "from sklearn.neighbors import KNeighborsClassifier\n",
    "from sklearn.metrics import f1_score\n"
   ]
  },
  {
   "cell_type": "markdown",
   "metadata": {},
   "source": [
    "# Task 2 Apply dimension reduction techniques Using PCA"
   ]
  },
  {
   "cell_type": "markdown",
   "metadata": {},
   "source": [
    "## Code implementation of PCA on the train and test sets."
   ]
  },
  {
   "cell_type": "code",
   "execution_count": null,
   "metadata": {},
   "outputs": [],
   "source": [
    "train_data = pd.read_csv(\"train_tfidf_features.csv\")\n",
    "train_raw = pd.read_csv(\"train.csv\")\n",
    "test_data = pd.read_csv(\"test_tfidf_features.csv\")"
   ]
  },
  {
   "cell_type": "code",
   "execution_count": null,
   "metadata": {},
   "outputs": [],
   "source": [
    "train_features = train_data.loc[:, '0':train_data.columns[-1]]\n",
    "train_label = train_raw[\"label\"]\n",
    "test_features = test_data.loc[:, '0':train_data.columns[-1]]\n",
    "test_id = test_data[\"id\"]"
   ]
  },
  {
   "cell_type": "code",
   "execution_count": null,
   "metadata": {},
   "outputs": [],
   "source": [
    "components_list = [2000, 1000, 500, 100]\n",
    "for n_components in components_list:\n",
    "    pca = PCA(n_components=n_components)\n",
    "    X_train_pca = pca.fit_transform(train_features)\n",
    "    X_test_pca = pca.transform(test_features)\n",
    "\n",
    "    # Train KNN\n",
    "    knn = KNeighborsClassifier(n_neighbors=2)\n",
    "    knn.fit(X_train_pca, train_label)\n",
    "\n",
    "    # Predict\n",
    "    test_predictions = knn.predict(X_test_pca)\n",
    "\n",
    "    # Prepare submission file\n",
    "    submission = pd.DataFrame({\n",
    "        'id': test_id,\n",
    "        'label': test_predictions\n",
    "    })\n",
    "    submission_file = f'submission_2B_{n_components}_components.csv'\n",
    "    submission.to_csv(submission_file, index=False)"
   ]
  },
  {
   "cell_type": "markdown",
   "metadata": {},
   "source": [
    "# Final Macro Scores Given by Kaggle:\n",
    "- Component: 100, F1 Score = 0.54805\n",
    "- Component: 500, F1 Score = 0.55860\n",
    "- Component: 1000, F1 Score = 0.57285\n",
    "- Component: 2000, F1 Score = 0.49359"
   ]
  }
 ],
 "metadata": {
  "kernelspec": {
   "display_name": "base",
   "language": "python",
   "name": "python3"
  },
  "language_info": {
   "codemirror_mode": {
    "name": "ipython",
    "version": 3
   },
   "file_extension": ".py",
   "mimetype": "text/x-python",
   "name": "python",
   "nbconvert_exporter": "python",
   "pygments_lexer": "ipython3",
   "version": "3.9.13"
  }
 },
 "nbformat": 4,
 "nbformat_minor": 2
}
